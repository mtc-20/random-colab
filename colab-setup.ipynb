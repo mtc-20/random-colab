{
 "cells": [
  {
   "cell_type": "code",
   "execution_count": null,
   "id": "524ce2b7",
   "metadata": {
    "vscode": {
     "languageId": "plaintext"
    }
   },
   "outputs": [],
   "source": [
    "!git clone https://github.com/mtc-20/random-colab.git . && ls"
   ]
  },
  {
   "cell_type": "code",
   "execution_count": null,
   "id": "a5f66f59",
   "metadata": {
    "vscode": {
     "languageId": "shellscript"
    }
   },
   "outputs": [],
   "source": [
    "%%bash\n",
    "\n",
    "# Check if the environment variable exists\n",
    "if [ -n \"$COLAB_RELEASE_TAG\" ] || [ -n \"$COLAB_GPU\" ]; then\n",
    "    echo \"Running on Google Colab. Cloning repository into temp folder...\"\n",
    "    git clone https://github.com/user/repository.git tmp_repo\n",
    "    echo \"Moving all helpers to project root...\"\n",
    "    mv tmp_repo/mcp-example .\n",
    "    mv tmp_repo/requirements.txt .\n",
    "    mv tmp_repo/env.example ./.env\n",
    "else\n",
    "    echo \"Not running on Google Colab. Skipping git clone.\"\n",
    "fi\n",
    "\n",
    "# The installation block runs regardless of environment.\n",
    "echo \"Checking for requirements.txt and installing required packages...\"\n",
    "\n",
    "# Check if requirements.txt exists in the current directory\n",
    "if [ -f \"requirements.txt\" ]; then\n",
    "    # Attempt to install with 'uv', and if it fails (exit code != 0), use 'pip' as a fallback.\n",
    "    if command -v uv &> /dev/null; then\n",
    "        echo \"uv detected. Installing with uv...\"\n",
    "        uv pip install -r requirements.txt\n",
    "    else\n",
    "        echo \"Installing with pip...\"\n",
    "        pip install -r requirements.txt\n",
    "    fi\n",
    "else\n",
    "    echo \"ERROR! requirements.txt not found! Please check for errors...\"\n",
    "fi"
   ]
  },
  {
   "cell_type": "code",
   "execution_count": null,
   "id": "79ae3a84",
   "metadata": {
    "vscode": {
     "languageId": "shellscript"
    }
   },
   "outputs": [],
   "source": [
    "!pip freeze"
   ]
  }
 ],
 "metadata": {
  "language_info": {
   "name": "python"
  }
 },
 "nbformat": 4,
 "nbformat_minor": 5
}
