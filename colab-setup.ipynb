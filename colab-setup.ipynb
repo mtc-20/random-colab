{
 "cells": [
  {
   "cell_type": "code",
   "execution_count": null,
   "id": "524ce2b7",
   "metadata": {
    "vscode": {
     "languageId": "plaintext"
    }
   },
   "outputs": [],
   "source": [
    "!git clone https://github.com/mtc-20/random-colab.git . && ls"
   ]
  },
  {
   "cell_type": "code",
   "execution_count": null,
   "id": "a5f66f59",
   "metadata": {
    "vscode": {
     "languageId": "plaintext"
    }
   },
   "outputs": [],
   "source": [
    "!pip install -r requirements.txt"
   ]
  }
 ],
 "metadata": {
  "language_info": {
   "name": "python"
  }
 },
 "nbformat": 4,
 "nbformat_minor": 5
}
